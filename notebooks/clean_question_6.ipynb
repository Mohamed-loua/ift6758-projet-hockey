{
 "cells": [
  {
   "cell_type": "code",
   "execution_count": 1,
   "id": "0f91256c-7bb0-4b0a-84a1-2cd9f1631e2d",
   "metadata": {},
   "outputs": [
    {
     "name": "stderr",
     "output_type": "stream",
     "text": [
      "/var/folders/43/_vzgr_gs2h1ft07nv0xhftd40000gn/T/ipykernel_13150/374787770.py:10: TqdmExperimentalWarning: Using `tqdm.autonotebook.tqdm` in notebook mode. Use `tqdm.tqdm` instead to force console mode (e.g. in jupyter console)\n",
      "  from tqdm.autonotebook import tqdm\n"
     ]
    }
   ],
   "source": [
    "import ipywidgets as widgets\n",
    "from ipywidgets import interact, SelectMultiple, fixed, Checkbox, IntRangeSlider, IntSlider, FloatSlider\n",
    "import numpy as np\n",
    "import matplotlib.pyplot as plt\n",
    "import pandas as pd\n",
    "import json\n",
    "import plotly.express as px\n",
    "import plotly.graph_objects as go\n",
    "import copy\n",
    "from tqdm.autonotebook import tqdm\n",
    "from PIL import Image\n",
    "from scipy import stats\n",
    "from matplotlib.image import NonUniformImage\n",
    "from src.DataExtractor import DataExtractor\n",
    "\n",
    "\n",
    "data_extractor = DataExtractor()"
   ]
  },
  {
   "cell_type": "code",
   "execution_count": 2,
   "id": "1e2d9a7c-547e-48ea-a8fb-fb94dcb2e4c0",
   "metadata": {},
   "outputs": [],
   "source": [
    "# cut the image\n",
    "im = Image.open(r'../figures/nhl_rink.png')\n",
    "width, height = im.size\n",
    "\n",
    "new_w = width/2\n",
    "im_new = im.crop((new_w, 0, width, height))\n",
    "\n",
    "new_width, height = im_new.size"
   ]
  },
  {
   "cell_type": "code",
   "execution_count": 6,
   "id": "f8f22e32-b888-4e19-96ed-f26c065dfe69",
   "metadata": {},
   "outputs": [],
   "source": [
    "year = 2017\n",
    "df_season_league = data_extractor.get_season_into_dataframe('./hockey/Season' + str(year) + str(year + 1) + '/season' + str(year) + str(year + 1) + '.json')"
   ]
  },
  {
   "cell_type": "code",
   "execution_count": 40,
   "id": "47ef3c09-7e90-4f66-829f-b54ad5317cbc",
   "metadata": {},
   "outputs": [],
   "source": [
    "def __generate_combined_shots_per_hour(df_season_league: pd.DataFrame, team_ids: list):\n",
    "    total_shot_count = 0\n",
    "    total_league_time_played_in_minutes = 0\n",
    "    \n",
    "    for team_id in tqdm(team_ids, total = len(team_ids)):\n",
    "        team_season_shots_x, team_season_shots_y = data_extractor.get_team_shots_from_dataframe(df_season_league, team_id)\n",
    "        total_shot_count += len(team_season_shots_x)\n",
    "        \n",
    "        team_season_time = data_extractor.get_time_played_from_team_season_dataframe(df_season_league, team_id)\n",
    "        total_league_time_played_in_minutes += np.sum(team_season_time)\n",
    "    \n",
    "    total_league_time_played_in_hours = total_league_time_played_in_minutes / 60\n",
    "    return total_shot_count / total_league_time_played_in_hours\n",
    "\n",
    "    \n",
    "def calculate_league_shots_per_hour(df_season_league: pd.DataFrame) -> float:\n",
    "    team_ids = list(range(1,56))\n",
    "    return __generate_league_shots_per_hour(df_season_league, team_ids)\n",
    "\n",
    "\n",
    "def calculate_team_shots_per_hour(df_season_league: pd.DataFrame, team_id: int) -> float:\n",
    "    team_ids = [team_id]\n",
    "    return __generate_league_shots_per_hour(df_season_league, team_ids)\n",
    "\n",
    "\n",
    "def __generate_total_shots_array(df_season_league: pd.DataFrame, team_ids: list):\n",
    "    total_shots_x = np.array([])\n",
    "    total_shots_y = np.array([])\n",
    "    \n",
    "    for team_id in tqdm(team_ids, total = len(team_ids)):\n",
    "        team_season_shots_x, team_season_shots_y = data_extractor.get_team_shots_from_dataframe(df_season_league, team_id)\n",
    "        total_shots_x = np.append(total_shots_x, team_season_shots_x)\n",
    "        total_shots_y = np.append(total_shots_y, team_season_shots_y)\n",
    "        \n",
    "    return total_shots_x, total_shots_y\n",
    "\n",
    "\n",
    "def get_total_league_shots_array(df_season_league: pd.DataFrame):\n",
    "    team_ids = list(range(1,56))\n",
    "    return __generate_total_shots_array(df_season_league, team_ids)\n",
    "\n",
    "\n",
    "def get_total_team_shots_array(df_season_league: pd.DataFrame, team_id: int):\n",
    "    team_ids = [team_id]\n",
    "    return __generate_total_shots_array(df_season_league, team_ids)\n",
    "\n",
    "\n",
    "def get_time_played_for_teams(df_season_league: pd.DataFrame, team_ids: list):\n",
    "    total_league_time_played_in_minutes = 0\n",
    "    \n",
    "    for team_id in tqdm(team_ids, total = len(team_ids)):\n",
    "        team_season_time = data_extractor.get_time_played_from_team_season_dataframe(df_season_league, team_id)\n",
    "        total_league_time_played_in_minutes += np.sum(team_season_time)\n",
    "        \n",
    "    return total_league_time_played_in_minutes / 60\n",
    "\n",
    "\n",
    "def get_team_info(df: pd.DataFrame, team_id: int):\n",
    "    df.rename(columns={\n",
    "        'team.id': 'teamID', \n",
    "        'team.name': 'teamName'\n",
    "        }, inplace=True)\n",
    "    \n",
    "    df = df[df.teamID == team_id]\n",
    "    name = df.teamName\n",
    "    team_id = df.teamID\n",
    "    if name.empty:\n",
    "        return ('rien', -1)\n",
    "    return (name.iloc[0], team_id.iloc[0])\n",
    "    "
   ]
  },
  {
   "cell_type": "code",
   "execution_count": 45,
   "id": "59451334-4711-4ec5-8190-925c4e229218",
   "metadata": {},
   "outputs": [],
   "source": [
    "def compute_team_shots_excess_by_hour_for_team(df_season_league: pd.DataFrame, team_id: int, source, width: float, lenght: float):\n",
    "    ##\n",
    "    # rink = [-100,100] * [-42.5, 42.5]\n",
    "    # image =  [0,550] * [0,467]\n",
    "    ###\n",
    "    #transformation\n",
    "    ratio_w = width / 100\n",
    "    ratio_l = lenght / 85\n",
    "\n",
    "    total_team_shots_x, total_team_shots_y = get_total_team_shots_array(df_season_league, team_id)\n",
    "    total_team_shots_x = np.abs(total_team_shots_x * ratio_w)\n",
    "    total_team_shots_y = (total_team_shots_y+42.5) * ratio_l\n",
    "    \n",
    "    total_league_shots_x, total_league_shots_y = get_total_league_shots_array(df_season_league)\n",
    "    total_league_shots_x = np.abs(total_league_shots_x * ratio_w)\n",
    "    total_league_shots_y = (total_league_shots_y+42.5) * ratio_l\n",
    "    \n",
    "    time_played_by_team = get_time_played_for_teams(df_season_league, [team_id])\n",
    "    time_played_by_league = get_time_played_for_teams(df_season_league, list(range(1,56)))\n",
    "    \n",
    "    # put shots in bins\n",
    "    xedges = list(range(0, new_width+1, 25))\n",
    "    yedges = list(range(0, height+1, 25))\n",
    "    H_team, xedges, yedges = np.histogram2d(total_team_shots_x, total_team_shots_y, bins=(xedges, yedges))\n",
    "    H_league, xedges, yedges = np.histogram2d(total_league_shots_x, total_league_shots_y, bins=(xedges, yedges))\n",
    "\n",
    "    # Histogram does not follow Cartesian convention (see Notes),\n",
    "    # therefore transpose H for visualization purposes.\n",
    "    H_team = H_team.T\n",
    "    H_league = H_league.T\n",
    "    \n",
    "    H_team = H_team / time_played_by_team\n",
    "    H_league = H_league / time_played_by_league\n",
    "    shot_excess = H_team - H_league\n",
    "    return shot_excess, xedges, yedges"
   ]
  },
  {
   "cell_type": "code",
   "execution_count": 36,
   "id": "c847c12d-8210-4ed2-8edf-7e51f491c042",
   "metadata": {},
   "outputs": [
    {
     "data": {
      "application/vnd.jupyter.widget-view+json": {
       "model_id": "c20fd703e7e247e08775480573c16da0",
       "version_major": 2,
       "version_minor": 0
      },
      "text/plain": [
       "  0%|          | 0/1 [00:00<?, ?it/s]"
      ]
     },
     "metadata": {},
     "output_type": "display_data"
    },
    {
     "data": {
      "application/vnd.jupyter.widget-view+json": {
       "model_id": "638d277395dd4b79a2f39a7127d71f70",
       "version_major": 2,
       "version_minor": 0
      },
      "text/plain": [
       "  0%|          | 0/55 [00:00<?, ?it/s]"
      ]
     },
     "metadata": {},
     "output_type": "display_data"
    },
    {
     "data": {
      "application/vnd.jupyter.widget-view+json": {
       "model_id": "c77893743b0b4205824766bedf1651fb",
       "version_major": 2,
       "version_minor": 0
      },
      "text/plain": [
       "  0%|          | 0/1 [00:00<?, ?it/s]"
      ]
     },
     "metadata": {},
     "output_type": "display_data"
    },
    {
     "data": {
      "application/vnd.jupyter.widget-view+json": {
       "model_id": "5a309c9dc8e140de9913da057e0da171",
       "version_major": 2,
       "version_minor": 0
      },
      "text/plain": [
       "  0%|          | 0/55 [00:00<?, ?it/s]"
      ]
     },
     "metadata": {},
     "output_type": "display_data"
    },
    {
     "data": {
      "application/vnd.jupyter.widget-view+json": {
       "model_id": "d3fdae3746aa48f19e2588ac8d8e410e",
       "version_major": 2,
       "version_minor": 0
      },
      "text/plain": [
       "  0%|          | 0/1 [00:00<?, ?it/s]"
      ]
     },
     "metadata": {},
     "output_type": "display_data"
    },
    {
     "data": {
      "application/vnd.jupyter.widget-view+json": {
       "model_id": "ae7fdd594cce4923a03580e5589d98a1",
       "version_major": 2,
       "version_minor": 0
      },
      "text/plain": [
       "  0%|          | 0/55 [00:00<?, ?it/s]"
      ]
     },
     "metadata": {},
     "output_type": "display_data"
    },
    {
     "data": {
      "application/vnd.jupyter.widget-view+json": {
       "model_id": "649a7de3583b4ed88f1affff3f6a1df5",
       "version_major": 2,
       "version_minor": 0
      },
      "text/plain": [
       "  0%|          | 0/1 [00:00<?, ?it/s]"
      ]
     },
     "metadata": {},
     "output_type": "display_data"
    },
    {
     "data": {
      "application/vnd.jupyter.widget-view+json": {
       "model_id": "d7faface8f9f487ab16cda257399149a",
       "version_major": 2,
       "version_minor": 0
      },
      "text/plain": [
       "  0%|          | 0/55 [00:00<?, ?it/s]"
      ]
     },
     "metadata": {},
     "output_type": "display_data"
    }
   ],
   "source": [
    "shot_excess, xedges, yedges = compute_team_shots_excess_by_hour_for_team(df_season_league, 4, im_new, new_width, height)\n",
    "shot_excess_2, xedges_2, yedges_2 = compute_team_shots_excess_by_hour_for_team(df_season_league, 5, im_new, new_width, height)"
   ]
  },
  {
   "cell_type": "code",
   "execution_count": 49,
   "id": "ea2c98e3-db9f-40aa-8e92-5ca9d216f3ef",
   "metadata": {},
   "outputs": [
    {
     "ename": "FileNotFoundError",
     "evalue": "[Errno 2] No such file or directory: './hockey/Season20162017/season20162017.json'",
     "output_type": "error",
     "traceback": [
      "\u001b[0;31m---------------------------------------------------------------------------\u001b[0m",
      "\u001b[0;31mFileNotFoundError\u001b[0m                         Traceback (most recent call last)",
      "Cell \u001b[0;32mIn [49], line 4\u001b[0m\n\u001b[1;32m      2\u001b[0m fig \u001b[38;5;241m=\u001b[39m go\u001b[38;5;241m.\u001b[39mFigure()\n\u001b[1;32m      3\u001b[0m year \u001b[38;5;241m=\u001b[39m \u001b[38;5;241m2016\u001b[39m\n\u001b[0;32m----> 4\u001b[0m df_season_league \u001b[38;5;241m=\u001b[39m \u001b[43mdata_extractor\u001b[49m\u001b[38;5;241;43m.\u001b[39;49m\u001b[43mget_season_into_dataframe\u001b[49m\u001b[43m(\u001b[49m\u001b[38;5;124;43m'\u001b[39;49m\u001b[38;5;124;43m./hockey/Season\u001b[39;49m\u001b[38;5;124;43m'\u001b[39;49m\u001b[43m \u001b[49m\u001b[38;5;241;43m+\u001b[39;49m\u001b[43m \u001b[49m\u001b[38;5;28;43mstr\u001b[39;49m\u001b[43m(\u001b[49m\u001b[43myear\u001b[49m\u001b[43m)\u001b[49m\u001b[43m \u001b[49m\u001b[38;5;241;43m+\u001b[39;49m\u001b[43m \u001b[49m\u001b[38;5;28;43mstr\u001b[39;49m\u001b[43m(\u001b[49m\u001b[43myear\u001b[49m\u001b[43m \u001b[49m\u001b[38;5;241;43m+\u001b[39;49m\u001b[43m \u001b[49m\u001b[38;5;241;43m1\u001b[39;49m\u001b[43m)\u001b[49m\u001b[43m \u001b[49m\u001b[38;5;241;43m+\u001b[39;49m\u001b[43m \u001b[49m\u001b[38;5;124;43m'\u001b[39;49m\u001b[38;5;124;43m/season\u001b[39;49m\u001b[38;5;124;43m'\u001b[39;49m\u001b[43m \u001b[49m\u001b[38;5;241;43m+\u001b[39;49m\u001b[43m \u001b[49m\u001b[38;5;28;43mstr\u001b[39;49m\u001b[43m(\u001b[49m\u001b[43myear\u001b[49m\u001b[43m)\u001b[49m\u001b[43m \u001b[49m\u001b[38;5;241;43m+\u001b[39;49m\u001b[43m \u001b[49m\u001b[38;5;28;43mstr\u001b[39;49m\u001b[43m(\u001b[49m\u001b[43myear\u001b[49m\u001b[43m \u001b[49m\u001b[38;5;241;43m+\u001b[39;49m\u001b[43m \u001b[49m\u001b[38;5;241;43m1\u001b[39;49m\u001b[43m)\u001b[49m\u001b[43m \u001b[49m\u001b[38;5;241;43m+\u001b[39;49m\u001b[43m \u001b[49m\u001b[38;5;124;43m'\u001b[39;49m\u001b[38;5;124;43m.json\u001b[39;49m\u001b[38;5;124;43m'\u001b[39;49m\u001b[43m)\u001b[49m\n\u001b[1;32m      6\u001b[0m false_list \u001b[38;5;241m=\u001b[39m []\n\u001b[1;32m      7\u001b[0m teams_names \u001b[38;5;241m=\u001b[39m []\n",
      "File \u001b[0;32m~/Public/IFT-6758-project/ift6758-projet-hockey/src/DataExtractor.py:101\u001b[0m, in \u001b[0;36mDataExtractor.get_season_into_dataframe\u001b[0;34m(self, path_to_file)\u001b[0m\n\u001b[1;32m    100\u001b[0m \u001b[38;5;28;01mdef\u001b[39;00m \u001b[38;5;21mget_season_into_dataframe\u001b[39m(\u001b[38;5;28mself\u001b[39m, path_to_file: \u001b[38;5;28mstr\u001b[39m) \u001b[38;5;241m-\u001b[39m\u001b[38;5;241m>\u001b[39m pd\u001b[38;5;241m.\u001b[39mDataFrame:\n\u001b[0;32m--> 101\u001b[0m     all_games_in_season \u001b[38;5;241m=\u001b[39m \u001b[38;5;28;43mself\u001b[39;49m\u001b[38;5;241;43m.\u001b[39;49m\u001b[43m__get_game_data\u001b[49m\u001b[43m(\u001b[49m\u001b[43mpath_to_file\u001b[49m\u001b[43m)\u001b[49m\n\u001b[1;32m    102\u001b[0m     df_season \u001b[38;5;241m=\u001b[39m pd\u001b[38;5;241m.\u001b[39mDataFrame()\n\u001b[1;32m    104\u001b[0m     \u001b[38;5;28;01mfor\u001b[39;00m game \u001b[38;5;129;01min\u001b[39;00m all_games_in_season:\n",
      "File \u001b[0;32m~/Public/IFT-6758-project/ift6758-projet-hockey/src/DataExtractor.py:145\u001b[0m, in \u001b[0;36mDataExtractor.__get_game_data\u001b[0;34m(self, path_to_file)\u001b[0m\n\u001b[1;32m    144\u001b[0m \u001b[38;5;28;01mdef\u001b[39;00m \u001b[38;5;21m__get_game_data\u001b[39m(\u001b[38;5;28mself\u001b[39m, path_to_file) \u001b[38;5;241m-\u001b[39m\u001b[38;5;241m>\u001b[39m \u001b[38;5;28mdict\u001b[39m:\n\u001b[0;32m--> 145\u001b[0m     file \u001b[38;5;241m=\u001b[39m \u001b[38;5;28;43mopen\u001b[39;49m\u001b[43m(\u001b[49m\u001b[43mpath_to_file\u001b[49m\u001b[43m,\u001b[49m\u001b[43m \u001b[49m\u001b[38;5;124;43m'\u001b[39;49m\u001b[38;5;124;43mr\u001b[39;49m\u001b[38;5;124;43m'\u001b[39;49m\u001b[43m,\u001b[49m\u001b[43m \u001b[49m\u001b[43mencoding\u001b[49m\u001b[38;5;241;43m=\u001b[39;49m\u001b[38;5;124;43m'\u001b[39;49m\u001b[38;5;124;43mutf-8\u001b[39;49m\u001b[38;5;124;43m'\u001b[39;49m\u001b[43m)\u001b[49m\n\u001b[1;32m    146\u001b[0m     json_str \u001b[38;5;241m=\u001b[39m file\u001b[38;5;241m.\u001b[39mread()\n\u001b[1;32m    147\u001b[0m     season_dict \u001b[38;5;241m=\u001b[39m json\u001b[38;5;241m.\u001b[39mloads(json_str)\n",
      "\u001b[0;31mFileNotFoundError\u001b[0m: [Errno 2] No such file or directory: './hockey/Season20162017/season20162017.json'"
     ]
    }
   ],
   "source": [
    "source = im_new\n",
    "fig = go.Figure()\n",
    "year = 2016\n",
    "df_season_league = data_extractor.get_season_into_dataframe('./hockey/Season' + str(year) + str(year + 1) + '/season' + str(year) + str(year + 1) + '.json')\n",
    "\n",
    "false_list = []\n",
    "teams_names = []\n",
    "teams_ids = []\n",
    "\n",
    "for i in range(1,56):\n",
    "    team_name, team_id = get_team_info(df_season_league, i)\n",
    "    if team_name == 'rien':\n",
    "        continue\n",
    "    teams_names.append(team_name)\n",
    "    teams_ids.append(team_id)\n",
    "    false_list.append(False)\n",
    "\n",
    "array_dict = []\n",
    "for i in range(0, len(teams_ids)):\n",
    "    shot_excess, xedges, yedges = compute_team_shots_excess_by_hour_for_team(df_season_league, teams_ids[i], im_new, new_width, height)\n",
    "    if (i == 0):\n",
    "        fig.add_trace(go.Heatmap(x=xedges, y=yedges, z=shot_excess, opacity=0.7, colorbar=dict(title='Raw Shot Excess per Hour'),  name=str(i+1)))\n",
    "    else:\n",
    "        fig.add_trace(go.Heatmap(x=xedges, y=yedges, z=shot_excess, visible=False, opacity=0.7, colorbar=dict(title='Raw Shot Excess per Hour'), name=str(i+1)))\n",
    "        \n",
    "    false_list[i] = True\n",
    "    array_dict.append(dict(label=teams_names[i],\n",
    "                 method=\"update\",\n",
    "                 args=[{\"visible\": copy.deepcopy(false_list)}]))\n",
    "    false_list[i] = False\n",
    "    \n",
    "fig.update_layout(\n",
    "    updatemenus=[\n",
    "    dict(\n",
    "        active=0,\n",
    "        buttons=list(array_dict),\n",
    "        )\n",
    "    ]\n",
    "    \n",
    ")\n",
    "fig.update_layout(\n",
    "    width=new_width * 2,\n",
    "    height = height * 2,\n",
    "    title=\"Raw Team Shots Excess For Year \" + str(year)\n",
    ")\n",
    "\n",
    "fig.add_layout_image(\n",
    "        source=source,\n",
    "        xref=\"paper\",\n",
    "        yref=\"paper\",\n",
    "        x=0,\n",
    "        y=1,\n",
    "        xanchor=\"left\",\n",
    "        yanchor=\"top\",\n",
    "        layer=\"below\",\n",
    "        sizing=\"stretch\",\n",
    "        sizex=1.0,\n",
    "        sizey=1.0\n",
    ")\n",
    "\n",
    "fig.show()\n",
    "#fig.write_html(\"2017.html\")"
   ]
  },
  {
   "cell_type": "code",
   "execution_count": null,
   "id": "1286fbf9-d246-4eb8-bcf8-0a94f092cd88",
   "metadata": {},
   "outputs": [],
   "source": []
  }
 ],
 "metadata": {
  "kernelspec": {
   "display_name": "ift6758-projet-hockey",
   "language": "python",
   "name": "ift6758-projet-hockey"
  },
  "language_info": {
   "codemirror_mode": {
    "name": "ipython",
    "version": 3
   },
   "file_extension": ".py",
   "mimetype": "text/x-python",
   "name": "python",
   "nbconvert_exporter": "python",
   "pygments_lexer": "ipython3",
   "version": "3.10.6"
  }
 },
 "nbformat": 4,
 "nbformat_minor": 5
}
