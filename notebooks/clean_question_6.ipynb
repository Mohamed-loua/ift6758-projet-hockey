{
 "cells": [
  {
   "cell_type": "code",
   "execution_count": 1,
   "id": "0f91256c-7bb0-4b0a-84a1-2cd9f1631e2d",
   "metadata": {},
   "outputs": [
    {
     "name": "stderr",
     "output_type": "stream",
     "text": [
      "/var/folders/43/_vzgr_gs2h1ft07nv0xhftd40000gn/T/ipykernel_10126/2978709482.py:9: TqdmExperimentalWarning: Using `tqdm.autonotebook.tqdm` in notebook mode. Use `tqdm.tqdm` instead to force console mode (e.g. in jupyter console)\n",
      "  from tqdm.autonotebook import tqdm\n"
     ]
    }
   ],
   "source": [
    "import ipywidgets as widgets\n",
    "from ipywidgets import interact, SelectMultiple, fixed, Checkbox, IntRangeSlider, IntSlider, FloatSlider\n",
    "import numpy as np\n",
    "import matplotlib.pyplot as plt\n",
    "import pandas as pd\n",
    "import json\n",
    "import plotly.express\n",
    "import plotly.graph_objects as go\n",
    "from tqdm.autonotebook import tqdm\n",
    "from PIL import Image\n",
    "from scipy import stats\n",
    "from matplotlib.image import NonUniformImage\n",
    "from src.DataExtractor import DataExtractor\n",
    "\n",
    "\n",
    "data_extractor = DataExtractor()"
   ]
  },
  {
   "cell_type": "code",
   "execution_count": 2,
   "id": "1e2d9a7c-547e-48ea-a8fb-fb94dcb2e4c0",
   "metadata": {},
   "outputs": [],
   "source": [
    "# cut the image\n",
    "im = Image.open(r'../figures/nhl_rink.png')\n",
    "width, height = im.size\n",
    "\n",
    "new_w = width/2\n",
    "im_new = im.crop((new_w, 0, width, height))\n",
    "\n",
    "new_width, height = im_new.size"
   ]
  },
  {
   "cell_type": "code",
   "execution_count": 3,
   "id": "f8f22e32-b888-4e19-96ed-f26c065dfe69",
   "metadata": {},
   "outputs": [],
   "source": [
    "year = 2017\n",
    "df_season_league = data_extractor.get_season_into_dataframe('./hockey/Season' + str(year) + str(year + 1) + '/season' + str(year) + str(year + 1) + '.json')"
   ]
  },
  {
   "cell_type": "code",
   "execution_count": 4,
   "id": "47ef3c09-7e90-4f66-829f-b54ad5317cbc",
   "metadata": {},
   "outputs": [],
   "source": [
    "def __generate_combined_shots_per_hour(df_season_league: pd.DataFrame, team_ids: list):\n",
    "    total_shot_count = 0\n",
    "    total_league_time_played_in_minutes = 0\n",
    "    \n",
    "    for team_id in tqdm(team_ids, total = len(team_ids)):\n",
    "        team_season_shots_x, team_season_shots_y = data_extractor.get_team_shots_from_dataframe(df_season_league, team_id)\n",
    "        total_shot_count += len(team_season_shots_x)\n",
    "        \n",
    "        team_season_time = data_extractor.get_time_played_from_team_season_dataframe(df_season_league, team_id)\n",
    "        total_league_time_played_in_minutes += np.sum(team_season_time)\n",
    "    \n",
    "    total_league_time_played_in_hours = total_league_time_played_in_minutes / 60\n",
    "    return total_shot_count / total_league_time_played_in_hours\n",
    "\n",
    "    \n",
    "def calculate_league_shots_per_hour(df_season_league: pd.DataFrame) -> float:\n",
    "    team_ids = list(range(1,56))\n",
    "    return __generate_league_shots_per_hour(df_season_league, team_ids)\n",
    "\n",
    "\n",
    "def calculate_team_shots_per_hour(df_season_league: pd.DataFrame, team_id: int) -> float:\n",
    "    team_ids = [team_id]\n",
    "    return __generate_league_shots_per_hour(df_season_league, team_ids)\n",
    "\n",
    "\n",
    "def __generate_total_shots_array(df_season_league: pd.DataFrame, team_ids: list):\n",
    "    total_shots_x = np.array([])\n",
    "    total_shots_y = np.array([])\n",
    "    \n",
    "    for team_id in tqdm(team_ids, total = len(team_ids)):\n",
    "        team_season_shots_x, team_season_shots_y = data_extractor.get_team_shots_from_dataframe(df_season_league, team_id)\n",
    "        total_shots_x = np.append(total_shots_x, team_season_shots_x)\n",
    "        total_shots_y = np.append(total_shots_y, team_season_shots_y)\n",
    "        \n",
    "    return total_shots_x, total_shots_y\n",
    "\n",
    "\n",
    "def get_total_league_shots_array(df_season_league: pd.DataFrame):\n",
    "    team_ids = list(range(1,56))\n",
    "    return __generate_total_shots_array(df_season_league, team_ids)\n",
    "\n",
    "\n",
    "def get_total_team_shots_array(df_season_league: pd.DataFrame, team_id: int):\n",
    "    team_ids = [team_id]\n",
    "    return __generate_total_shots_array(df_season_league, team_ids)\n",
    "\n",
    "\n",
    "def get_time_played_for_teams(df_season_league: pd.DataFrame, team_ids: list):\n",
    "    total_league_time_played_in_minutes = 0\n",
    "    \n",
    "    for team_id in tqdm(team_ids, total = len(team_ids)):\n",
    "        team_season_time = data_extractor.get_time_played_from_team_season_dataframe(df_season_league, team_id)\n",
    "        total_league_time_played_in_minutes += np.sum(team_season_time)\n",
    "        \n",
    "    return total_league_time_played_in_minutes\n",
    "    "
   ]
  },
  {
   "cell_type": "code",
   "execution_count": 104,
   "id": "59451334-4711-4ec5-8190-925c4e229218",
   "metadata": {},
   "outputs": [],
   "source": [
    "def compute_team_shots_excess_by_hour_for_team(df_season_league: pd.DataFrame, team_id: int, source, width: float, lenght: float):\n",
    "    ##\n",
    "    # rink = [-100,100] * [-42.5, 42.5]\n",
    "    # image =  [0,550] * [0,467]\n",
    "    ###\n",
    "    #transformation\n",
    "    ratio_w = width / 100\n",
    "    ratio_l = lenght / 85\n",
    "\n",
    "    total_team_shots_x, total_team_shots_y = get_total_team_shots_array(df_season_league, team_id)\n",
    "    total_team_shots_x = np.abs(total_team_shots_x * ratio_w)\n",
    "    total_team_shots_y = (total_team_shots_y+42.5) * ratio_l\n",
    "    \n",
    "    total_league_shots_x, total_league_shots_y = get_total_league_shots_array(df_season_league)\n",
    "    total_league_shots_x = np.abs(total_league_shots_x * ratio_w)\n",
    "    total_league_shots_y = (total_league_shots_y+42.5) * ratio_l\n",
    "    \n",
    "    time_played_by_team = get_time_played_for_teams(df_season_league, [team_id])\n",
    "    time_played_by_league = get_time_played_for_teams(df_season_league, list(range(1,56)))\n",
    "    \n",
    "    # put shots in bins\n",
    "    xedges = list(range(0, new_width+1, 25))\n",
    "    yedges = list(range(0, height+1, 25))\n",
    "    H_team, xedges, yedges = np.histogram2d(total_team_shots_x, total_team_shots_y, bins=(xedges, yedges))\n",
    "    H_league, xedges, yedges = np.histogram2d(total_league_shots_x, total_league_shots_y, bins=(xedges, yedges))\n",
    "\n",
    "    # Histogram does not follow Cartesian convention (see Notes),\n",
    "    # therefore transpose H for visualization purposes.\n",
    "    H_team = H_team.T\n",
    "    H_league = H_league.T\n",
    "    \n",
    "    H_team = H_team / time_played_by_team\n",
    "    H_league = H_league / time_played_by_league\n",
    "    shot_excess = H_team - H_league\n",
    "    min_shot_excess = shot_excess.min()\n",
    "    max_shot_excess = shot_excess.max()\n",
    "    \n",
    "#     fig = plt.figure(figsize=(17, 3))\n",
    "#     ax = fig.add_subplot(131, title='Team shots localization')\n",
    "#     plt.imshow(H_team, interpolation='nearest', origin='lower',\n",
    "#         extent=[xedges[0], xedges[-1], yedges[0], yedges[-1]])\n",
    "    \n",
    "#     fig = plt.figure(figsize=(17, 3))\n",
    "#     ax = fig.add_subplot(132, title='League shots localization')\n",
    "#     plt.imshow(H_league, interpolation='nearest', origin='lower',\n",
    "#         extent=[xedges[0], xedges[-1], yedges[0], yedges[-1]])\n",
    "    \n",
    "    fig = plt.figure(figsize=(17, 3))\n",
    "    ax = fig.add_subplot(133, title='Computed team shots excess')\n",
    "    plt.imshow(H_team - H_league, interpolation='nearest', origin='lower',\n",
    "        extent=[xedges[0], xedges[-1], yedges[0], yedges[-1]])\n",
    "    plt.colorbar()\n",
    "    plt.show()"
   ]
  },
  {
   "cell_type": "code",
   "execution_count": 105,
   "id": "c847c12d-8210-4ed2-8edf-7e51f491c042",
   "metadata": {},
   "outputs": [
    {
     "data": {
      "application/vnd.jupyter.widget-view+json": {
       "model_id": "6c8afdf441654f72b6a8d4e9a72b1e9c",
       "version_major": 2,
       "version_minor": 0
      },
      "text/plain": [
       "  0%|          | 0/1 [00:00<?, ?it/s]"
      ]
     },
     "metadata": {},
     "output_type": "display_data"
    },
    {
     "data": {
      "application/vnd.jupyter.widget-view+json": {
       "model_id": "f98c5ef751f14bdd955be151a26fce0d",
       "version_major": 2,
       "version_minor": 0
      },
      "text/plain": [
       "  0%|          | 0/55 [00:00<?, ?it/s]"
      ]
     },
     "metadata": {},
     "output_type": "display_data"
    },
    {
     "data": {
      "application/vnd.jupyter.widget-view+json": {
       "model_id": "678bd9f5e1c94c46a0a20fbfda338409",
       "version_major": 2,
       "version_minor": 0
      },
      "text/plain": [
       "  0%|          | 0/1 [00:00<?, ?it/s]"
      ]
     },
     "metadata": {},
     "output_type": "display_data"
    },
    {
     "data": {
      "application/vnd.jupyter.widget-view+json": {
       "model_id": "59bc20b0e58e43a2988b7626f3d2d916",
       "version_major": 2,
       "version_minor": 0
      },
      "text/plain": [
       "  0%|          | 0/55 [00:00<?, ?it/s]"
      ]
     },
     "metadata": {},
     "output_type": "display_data"
    },
    {
     "data": {
      "image/png": "[encoded data removed]",
      "text/plain": [
       "<Figure size 1700x300 with 2 Axes>"
      ]
     },
     "metadata": {},
     "output_type": "display_data"
    }
   ],
   "source": [
    "compute_team_shots_excess_by_hour_for_team(df_season_league, 4, im_new, new_width, height)"
   ]
  },
  {
   "cell_type": "code",
   "execution_count": null,
   "id": "08a0103a-6122-4b17-9147-58cb8a0906fb",
   "metadata": {},
   "outputs": [],
   "source": []
  }
 ],
 "metadata": {
  "kernelspec": {
   "display_name": "ift6758-projet-hockey",
   "language": "python",
   "name": "ift6758-projet-hockey"
  },
  "language_info": {
   "codemirror_mode": {
    "name": "ipython",
    "version": 3
   },
   "file_extension": ".py",
   "mimetype": "text/x-python",
   "name": "python",
   "nbconvert_exporter": "python",
   "pygments_lexer": "ipython3",
   "version": "3.10.6"
  }
 },
 "nbformat": 4,
 "nbformat_minor": 5
}
