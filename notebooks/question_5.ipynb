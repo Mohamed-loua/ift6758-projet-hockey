{
 "cells": [
  {
   "cell_type": "code",
   "execution_count": 20,
   "id": "703ea76e",
   "metadata": {},
   "outputs": [
    {
     "ename": "ModuleNotFoundError",
     "evalue": "No module named 'DataExtractor'",
     "output_type": "error",
     "traceback": [
      "\u001b[1;31m---------------------------------------------------------------------------\u001b[0m",
      "\u001b[1;31mModuleNotFoundError\u001b[0m                       Traceback (most recent call last)",
      "Cell \u001b[1;32mIn [20], line 7\u001b[0m\n\u001b[0;32m      5\u001b[0m \u001b[38;5;28;01mimport\u001b[39;00m \u001b[38;5;21;01mjson\u001b[39;00m\n\u001b[0;32m      6\u001b[0m \u001b[38;5;28;01mimport\u001b[39;00m \u001b[38;5;21;01mrequests\u001b[39;00m\n\u001b[1;32m----> 7\u001b[0m \u001b[38;5;28;01mfrom\u001b[39;00m \u001b[38;5;21;01mDataExtractor\u001b[39;00m \u001b[38;5;28;01mimport\u001b[39;00m DataExtractor\n",
      "\u001b[1;31mModuleNotFoundError\u001b[0m: No module named 'DataExtractor'"
     ]
    }
   ],
   "source": [
    "import pandas as pd\n",
    "import numpy as np\n",
    "import os\n",
    "import os as path\n",
    "import json\n",
    "import requests\n",
    "from DataExtractor import DataExtractor"
   ]
  },
  {
   "cell_type": "code",
   "execution_count": 5,
   "id": "5b433854",
   "metadata": {},
   "outputs": [
    {
     "data": {
      "text/plain": [
       "'C:\\\\Users\\\\jonathan\\\\Documents\\\\university\\\\python-homework\\\\ift6758-projet-hockey\\\\notebooks'"
      ]
     },
     "execution_count": 5,
     "metadata": {},
     "output_type": "execute_result"
    }
   ],
   "source": [
    "path = os.getcwd()\n",
    "path"
   ]
  },
  {
   "cell_type": "code",
   "execution_count": 8,
   "id": "71a565d2",
   "metadata": {},
   "outputs": [
    {
     "name": "stdout",
     "output_type": "stream",
     "text": [
      "Obtaining file:///C:/Users/jonathan/Documents/university/python-homework/ift6758-projet-hockey\n",
      "Installing collected packages: ift6758\n",
      "  Running setup.py develop for ift6758\n",
      "Successfully installed ift6758-0.1.0\n"
     ]
    }
   ],
   "source": [
    "!pip install -e C:\\Users\\jonathan\\Documents\\university\\python-homework\\ift6758-projet-hockey"
   ]
  },
  {
   "cell_type": "code",
   "execution_count": 19,
   "id": "8482d6cd",
   "metadata": {},
   "outputs": [
    {
     "ename": "NameError",
     "evalue": "name 'DataExtractor' is not defined",
     "output_type": "error",
     "traceback": [
      "\u001b[1;31m---------------------------------------------------------------------------\u001b[0m",
      "\u001b[1;31mNameError\u001b[0m                                 Traceback (most recent call last)",
      "Cell \u001b[1;32mIn [19], line 1\u001b[0m\n\u001b[1;32m----> 1\u001b[0m data_extractor \u001b[38;5;241m=\u001b[39m \u001b[43mDataExtractor\u001b[49m()\n",
      "\u001b[1;31mNameError\u001b[0m: name 'DataExtractor' is not defined"
     ]
    }
   ],
   "source": [
    "data_extractor = DataExtractor()"
   ]
  },
  {
   "cell_type": "code",
   "execution_count": null,
   "id": "26a141b1",
   "metadata": {},
   "outputs": [],
   "source": []
  }
 ],
 "metadata": {
  "kernelspec": {
   "display_name": "ift6758-projet-hockey",
   "language": "python",
   "name": "ift6758-projet-hockey"
  },
  "language_info": {
   "codemirror_mode": {
    "name": "ipython",
    "version": 3
   },
   "file_extension": ".py",
   "mimetype": "text/x-python",
   "name": "python",
   "nbconvert_exporter": "python",
   "pygments_lexer": "ipython3",
   "version": "3.10.6"
  }
 },
 "nbformat": 4,
 "nbformat_minor": 5
}
